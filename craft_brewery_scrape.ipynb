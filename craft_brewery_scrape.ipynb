{
 "cells": [
  {
   "cell_type": "code",
   "execution_count": 1,
   "metadata": {},
   "outputs": [
    {
     "name": "stdout",
     "output_type": "stream",
     "text": [
      "Requirement already satisfied: splinter in c:\\users\\todds\\anaconda3\\envs\\pythondata\\lib\\site-packages (0.14.0)\n",
      "Requirement already satisfied: six in c:\\users\\todds\\anaconda3\\envs\\pythondata\\lib\\site-packages (from splinter) (1.15.0)\n",
      "Requirement already satisfied: selenium>=3.141.0 in c:\\users\\todds\\anaconda3\\envs\\pythondata\\lib\\site-packages (from splinter) (3.141.0)\n",
      "Requirement already satisfied: urllib3 in c:\\users\\todds\\anaconda3\\envs\\pythondata\\lib\\site-packages (from selenium>=3.141.0->splinter) (1.25.9)\n"
     ]
    }
   ],
   "source": [
    "# Import Dependencies\n",
    "\n",
    "! pip install splinter\n",
    "\n",
    "import pandas as pd\n",
    "\n",
    "from splinter import Browser\n",
    "from bs4 import BeautifulSoup\n",
    "import requests\n",
    "\n",
    "# Dependencies for parsing javascript within HTML\n",
    "import json\n",
    "import re\n",
    "\n",
    "import pprint\n"
   ]
  },
  {
   "cell_type": "code",
   "execution_count": 2,
   "metadata": {},
   "outputs": [
    {
     "name": "stdout",
     "output_type": "stream",
     "text": [
      "[<h1>Alabama</h1>, <h1>Alaska</h1>, <h1>Arizona</h1>, <h1>Arkansas</h1>, <h1>California</h1>, <h1>Colorado</h1>, <h1>Connecticut</h1>, <h1>Delaware</h1>, <h1>District of Columbia</h1>, <h1>Florida</h1>, <h1>Georgia</h1>, <h1>Hawaii</h1>, <h1>Idaho</h1>, <h1>Illinois</h1>, <h1>Indiana</h1>, <h1>Iowa</h1>, <h1>Kansas</h1>, <h1>Kentucky</h1>, <h1>Louisiana</h1>, <h1>Maine</h1>, <h1>Maryland</h1>, <h1>Massachusetts</h1>, <h1>Michigan</h1>, <h1>Minnesota</h1>, <h1>Mississippi</h1>, <h1>Missouri</h1>, <h1>Montana</h1>, <h1>Nebraska</h1>, <h1>Nevada</h1>, <h1>New Hampshire</h1>, <h1>New Jersey</h1>, <h1>New Mexico</h1>, <h1>New York</h1>, <h1>North Carolina</h1>, <h1>North Dakota</h1>, <h1>Ohio</h1>, <h1>Oklahoma</h1>, <h1>Oregon</h1>, <h1>Pennsylvania</h1>, <h1>Rhode Island</h1>, <h1>South Carolina</h1>, <h1>South Dakota</h1>, <h1>Tennessee</h1>, <h1>Texas</h1>, <h1>Utah</h1>, <h1>Vermont</h1>, <h1>Virginia</h1>, <h1>Washington</h1>, <h1>West Virginia</h1>, <h1>Wisconsin</h1>, <h1>Wyoming</h1>]\n"
     ]
    }
   ],
   "source": [
    "## Test scrape state headers from craft brewery website\n",
    "\n",
    "# Step 1:  Set URL and retriev page\n",
    "url = \"https://www.brewersassociation.org/statistics-and-data/state-craft-beer-stats\"\n",
    "response = requests.get(url)\n",
    "\n",
    "# Step 2:  Create soup object and examine results\n",
    "soup = BeautifulSoup(response.text, \"html.parser\")\n",
    "# print(soup.prettify())\n",
    "\n",
    "# step 3:  Scrape content for Alabama\n",
    "states = soup.select(\"#state-header h1\")\n",
    "print(states)\n",
    "\n",
    "\n"
   ]
  },
  {
   "cell_type": "code",
   "execution_count": 3,
   "metadata": {},
   "outputs": [],
   "source": [
    "# Select a state division and then select class (\".count\") within in that state division\n",
    "\n",
    "all_states = soup.select(\".stat-container\")\n"
   ]
  },
  {
   "cell_type": "code",
   "execution_count": 4,
   "metadata": {},
   "outputs": [],
   "source": [
    "# Loop through state data and append info to lists\n",
    "\n",
    "states = []\n",
    "state_breweries = []\n",
    "state_percapita = []\n",
    "state_barrels = []\n",
    "\n",
    "for state in all_states:\n",
    "    states.append(state.select(\"#state-header h1\")[0].text)\n",
    "    state_breweries.append(int(state.select(\".count\")[0].text))\n",
    "    state_percapita.append(float(state.select(\".count\")[1].text))\n",
    "    state_barrels.append(int(state.select(\".count\")[4].text.replace(\",\", \"\")))\n",
    "\n",
    "    \n"
   ]
  },
  {
   "cell_type": "code",
   "execution_count": 5,
   "metadata": {},
   "outputs": [],
   "source": [
    "state_data = {\"States\": states, \"# Breweries\": state_breweries, \"Breweries Per Capita\": state_percapita, \n",
    "                \"Barrels\": state_barrels}"
   ]
  },
  {
   "cell_type": "code",
   "execution_count": 6,
   "metadata": {},
   "outputs": [],
   "source": [
    "state_data_df = pd.DataFrame(state_data)\n",
    "# state_data_df"
   ]
  },
  {
   "cell_type": "code",
   "execution_count": 7,
   "metadata": {},
   "outputs": [],
   "source": [
    "state_data_df.to_csv(\"state_data.csv\")"
   ]
  },
  {
   "cell_type": "code",
   "execution_count": 8,
   "metadata": {},
   "outputs": [],
   "source": [
    "## ------------------ Format National Craft Brewery Information ------------ ##"
   ]
  },
  {
   "cell_type": "code",
   "execution_count": 9,
   "metadata": {},
   "outputs": [],
   "source": [
    "craft_production = [{\"date\": 2005,\"regional\": 4059412,\"micro\": 708014,\"taproom\": 0,\"brewpub\": 672219,\"contract\": 854155},\n",
    "{\"date\": 2006,\"regional\": 4419523,\"micro\": 846807,\"taproom\": 0,\"brewpub\": 699554,\"contract\": 1132807},\n",
    "{\"date\": 2007,\"regional\": 4909595,\"micro\": 968736,\"taproom\": 0,\"brewpub\": 718734,\"contract\": 1380738},\n",
    "{\"date\": 2008,\"regional\": 5627520,\"micro\": 906955,\"taproom\": 0,\"brewpub\": 696952,\"contract\": 1252232},\n",
    "{\"date\": 2009,\"regional\": 7129471,\"micro\": 947851,\"taproom\": 0,\"brewpub\": 705303,\"contract\": 282004},\n",
    "{\"date\": 2010,\"regional\": 8034796,\"micro\": 1141118,\"taproom\": 0,\"brewpub\": 727427,\"contract\": 230636},\n",
    "{\"date\": 2011,\"regional\": 9041364,\"micro\": 1432034,\"taproom\": 0,\"brewpub\": 811661,\"contract\": 182278},\n",
    "{\"date\": 2012,\"regional\": 10237632,\"micro\": 1905212,\"taproom\": 0,\"brewpub\": 870371,\"contract\": 222702},\n",
    "{\"date\": 2013,\"regional\": 11973628,\"micro\": 2377107,\"taproom\": 0,\"brewpub\": 977905,\"contract\": 176210},\n",
    "{\"date\": 2014,\"regional\": 17412333,\"micro\": 3161365,\"taproom\": 0,\"brewpub\": 1167164,\"contract\": 257517},\n",
    "{\"date\": 2015,\"regional\": 18841448,\"micro\": 3946399,\"taproom\": 0,\"brewpub\": 1184252,\"contract\": 210362},\n",
    "{\"date\": 2016,\"regional\": 17883085,\"micro\": 4865341,\"taproom\": 0,\"brewpub\": 1309909,\"contract\": 244214},\n",
    "{\"date\": 2017,\"regional\": 17744740,\"micro\": 5508641,\"taproom\": 0,\"brewpub\": 1446982,\"contract\": 258197},\n",
    "{\"date\": 2018,\"regional\": 17751883,\"micro\": 5913143,\"taproom\": 0,\"brewpub\": 1505001,\"contract\": 287402},\n",
    "{\"date\": 2019,\"regional\": 17918642,\"micro\": 4888669,\"taproom\": 1615881,\"brewpub\": 1617768,\"contract\": 306957}\n",
    "]"
   ]
  },
  {
   "cell_type": "code",
   "execution_count": 10,
   "metadata": {},
   "outputs": [],
   "source": [
    "# Create a craft production table\n",
    "\n",
    "date = []\n",
    "regional =[]\n",
    "micro =[]\n",
    "taproom =[]\n",
    "brewpub =[]\n",
    "contract =[]\n",
    "\n",
    "for item in craft_production:\n",
    "    date.append(item[\"date\"])\n",
    "    regional.append(item[\"regional\"])\n",
    "    micro.append(item[\"micro\"])\n",
    "    taproom.append(item[\"taproom\"])\n",
    "    brewpub.append(item[\"brewpub\"])\n",
    "    contract.append(item[\"contract\"])\n",
    "    \n",
    "craft_barrels = {\"Year\": date, \"Regional\": regional, \"Micro Brewery\": micro, \"Taproom\": taproom,\n",
    "                \"Brewpub\":  brewpub, \"Contract\": contract}\n",
    "\n",
    "craft_barrels_df = pd.DataFrame(craft_barrels)\n",
    "\n",
    "craft_barrels_df.to_csv(\"craft_barrels.csv\")\n",
    "\n",
    "# craft_barrels_df\n"
   ]
  },
  {
   "cell_type": "code",
   "execution_count": 11,
   "metadata": {},
   "outputs": [],
   "source": [
    "craft_count = [{\"year\": 2005,\"regional\": 49,\"micro\": 354,\"brewpubs\": 991, \"taprooms\": 0},\n",
    "{\"year\": 2006,\"regional\": 50,\"micro\": 370,\"brewpubs\": 989, \"taprooms\": 0},\n",
    "{\"year\": 2007,\"regional\": 55,\"micro\": 422,\"brewpubs\": 982, \"taprooms\": 0},\n",
    "{\"year\": 2008,\"regional\": 62,\"micro\": 450,\"brewpubs\": 1009, \"taprooms\": 0},\n",
    "{\"year\": 2009,\"regional\": 71,\"micro\": 505,\"brewpubs\": 1020, \"taprooms\": 0},\n",
    "{\"year\": 2010,\"regional\": 81,\"micro\": 620,\"brewpubs\": 1057, \"taprooms\": 0},\n",
    "{\"year\": 2011,\"regional\": 88,\"micro\": 843,\"brewpubs\": 1267, \"taprooms\": 0},\n",
    "{\"year\": 2012,\"regional\": 97,\"micro\": 1147,\"brewpubs\": 1372, \"taprooms\": 0},\n",
    "{\"year\": 2013,\"regional\": 119,\"micro\": 1492,\"brewpubs\": 1497, \"taprooms\": 0},\n",
    "{\"year\": 2014,\"regional\": 135,\"micro\": 2116,\"brewpubs\": 1717, \"taprooms\": 0},\n",
    "{\"year\": 2015,\"regional\": 178,\"micro\": 2684,\"brewpubs\": 1914, \"taprooms\": 0},\n",
    "{\"year\": 2016,\"regional\": 186,\"micro\": 3319,\"brewpubs\": 2208, \"taprooms\": 0},\n",
    "{\"year\": 2017,\"regional\": 202,\"micro\": 3956,\"brewpubs\": 2503, \"taprooms\": 0},\n",
    "{\"year\": 2018,\"regional\": 230,\"micro\": 4558,\"brewpubs\": 2806, \"taprooms\": 0},\n",
    "{\"year\": 2019,\"regional\": 240,\"micro\": 2058,\"brewpubs\": 3011, \"taprooms\": 2966}\n",
    "]"
   ]
  },
  {
   "cell_type": "code",
   "execution_count": 12,
   "metadata": {},
   "outputs": [],
   "source": [
    "# Create a craft count table\n",
    "\n",
    "date1 = []\n",
    "regional1 =[]\n",
    "micro1 =[]\n",
    "taproom1 =[]\n",
    "brewpub1 =[]\n",
    "\n",
    "\n",
    "for item in craft_count:\n",
    "    date1.append(item[\"year\"])\n",
    "    regional1.append(item[\"regional\"])\n",
    "    micro1.append(item[\"micro\"])\n",
    "    taproom1.append(item[\"taprooms\"])\n",
    "    brewpub1.append(item[\"brewpubs\"])\n",
    "\n",
    "    \n",
    "craft_numbers = {\"Year\": date1, \"Regional\": regional1, \"Micro Brewery\": micro1, \"Taproom\": taproom1,\n",
    "                \"Brewpub\":  brewpub1}\n",
    "\n",
    "craft_numbers_df = pd.DataFrame(craft_numbers)\n",
    "\n",
    "craft_numbers_df.to_csv(\"craft_numbers.csv\")\n",
    "\n",
    "# craft_numbers_df\n"
   ]
  },
  {
   "cell_type": "code",
   "execution_count": 16,
   "metadata": {},
   "outputs": [],
   "source": [
    "# Load all national brewery JSON file into Mongo\n",
    "\n",
    "## Create Mongo database from imported state files\n",
    "# Import modules\n",
    "import pymongo\n",
    "import json\n",
    "\n",
    "# Set up default port and client connection; define the database\n",
    "conn = 'mongodb://localhost:27017'\n",
    "client = pymongo.MongoClient(conn)\n",
    "\n",
    "# Declare the 'USbeer_DB' database in Mongo\n",
    "db = client.USbeer_db\n",
    "\n",
    "# Declare the collection\n",
    "breweries = db.breweries_db\n",
    "\n",
    "# Load the JSON file\n",
    "with open(\"us_breweries.json\") as file:\n",
    "    file_data = json.load(file)\n",
    "    \n",
    "# Insert the loaded data in the Collection\n",
    "# If JOSN contains more than one entry\n",
    "# insert_many is used, else insert_one is used\n",
    "\n",
    "if isinstance(file_data, list):\n",
    "    breweries.insert_many(file_data)\n",
    "else:\n",
    "    breweries.insert_one(file_data)\n",
    "\n"
   ]
  },
  {
   "cell_type": "code",
   "execution_count": 32,
   "metadata": {},
   "outputs": [
    {
     "name": "stdout",
     "output_type": "stream",
     "text": [
      "0 Avondale Brewing Co 33.524521 -86.774322\n",
      "1 Band of Brothers Brewing Company 33.1984907123707 -87.5621551272424\n",
      "2 Trim Tab Brewing 33.5128492349817 -86.7914000624146\n",
      "3 Yellowhammer Brewery 34.7277523 -86.5932014\n",
      "4 5 Rivers Brewing LLC 30.6749127 -87.9152724\n",
      "5 Back Forty Beer Co 34.016888 -86.005006\n",
      "6 Below the Radar Brewing Co 34.7327236530612 -86.5858393061225\n",
      "7 Big Beach Brewing Company 30.278051 -87.683039\n",
      "8 Blue Pants Brewery  \n",
      "9 Cahaba Brewing Co  \n",
      "10 Chattahoochee Brewing Co  \n",
      "11 Common Bond Brewers, LLC  \n",
      "12 Folklore Brewing  \n",
      "13 Goat Island Brewing  \n",
      "14 Red Hills Brewing Co  \n",
      "15 Birmingham District Brewing 33.5206824 -86.8024326\n",
      "16 Black Warrior Brewing Co. 33.2106175454545 -87.565915\n",
      "17 Bluewater Brewing Co 34.8041295 -87.6597052887684\n",
      "18 Brewery in Planning - Mobile 30.6943566 -88.0430541\n",
      "19 Brewpub In Planning - Birmingham 33.5206824 -86.8024326\n",
      "20 Chandler's Ford Brewing LLC 34.729847 -86.5859011\n",
      "21 Cheaha Brewing Co 33.6601671 -85.8337740514949\n",
      "22 Cross-Eyed Owl Brewing Co. 34.6041206530612 -86.9866330204082\n",
      "23 Druid City Brewing 33.1999747350306 -87.5437361470987\n",
      "24 Fairhope Brewing Co 30.516291 -87.898282\n",
      "25 Ferus Artisan Ales 33.6196266 -86.6084342\n",
      "26 Ghost Train Brewing Co 33.5141593469388 -86.7940615102041\n",
      "27 Good People Brewing Co 33.5075946077931 -86.8121799456595\n",
      "28 Haint Blue Brewing Company 30.6847432069419 -88.051261838738\n",
      "29 InnerSpace Brewing Company 34.7277523 -86.5932014\n",
      "30 Mad Malts Brewery & Tap Room 34.746475 -86.585242\n",
      "31 Main Channel Brewing Company 34.3387368412698 -86.3121603492064\n",
      "32 Old Black Bear Brewing 34.6932934545455 -86.7492240909091\n",
      "33 Old Majestic Brewing Company 30.6943566 -88.0430541\n",
      "34 Red Clay Brewing Company 32.6493954206225 -85.3787541825702\n",
      "35 Rocket Republic Brewing Company 34.6728014 -86.7740173304273\n",
      "36 Salty Nut Brewery 34.7277523 -86.5932014\n",
      "37 Sand Mtn brewery 34.5789747 -85.986644\n",
      "38 Serda Brewing Company 30.6879563 -88.0493871301972\n",
      "39 Siluria Brewing Company 33.2442813 -86.8163773\n",
      "40 Singin' River Brewing Company, LLC 34.8016657 -87.668929940884\n",
      "41 Straight to Ale 34.7277523 -86.5932014\n",
      "42 Tallulah Brewing Company 33.830796 -87.278675\n",
      "43 Twisted Barley Brewing Company 33.832359 -87.28338\n",
      "44 The Railyard Brewing Co  \n",
      "45 Green Bus Brewing 34.7301050335608 -86.5840513571761\n"
     ]
    }
   ],
   "source": [
    "# Check JSON\n",
    "\n",
    "locations = db.breweries_db.find()\n",
    "\n",
    "i = 0\n",
    "for location in locations:\n",
    "    # print(i, location[\"state\"])\n",
    "    if location[\"state\"] == \"Alabama\":\n",
    "        print(i, location[\"name\"], location[\"latitude\"], location[\"longitude\"])\n",
    "        i += 1\n",
    "   "
   ]
  },
  {
   "cell_type": "code",
   "execution_count": 28,
   "metadata": {},
   "outputs": [
    {
     "data": {
      "text/html": [
       "<div>\n",
       "<style scoped>\n",
       "    .dataframe tbody tr th:only-of-type {\n",
       "        vertical-align: middle;\n",
       "    }\n",
       "\n",
       "    .dataframe tbody tr th {\n",
       "        vertical-align: top;\n",
       "    }\n",
       "\n",
       "    .dataframe thead th {\n",
       "        text-align: right;\n",
       "    }\n",
       "</style>\n",
       "<table border=\"1\" class=\"dataframe\">\n",
       "  <thead>\n",
       "    <tr style=\"text-align: right;\">\n",
       "      <th></th>\n",
       "    </tr>\n",
       "  </thead>\n",
       "  <tbody>\n",
       "  </tbody>\n",
       "</table>\n",
       "</div>"
      ],
      "text/plain": [
       "Empty DataFrame\n",
       "Columns: []\n",
       "Index: []"
      ]
     },
     "execution_count": 28,
     "metadata": {},
     "output_type": "execute_result"
    }
   ],
   "source": [
    "# Load CSV files into Mongo\n",
    "\n",
    "\n",
    "\n"
   ]
  },
  {
   "cell_type": "code",
   "execution_count": 4,
   "metadata": {},
   "outputs": [
    {
     "ename": "AttributeError",
     "evalue": "module 'csv' has no attribute 'read'",
     "output_type": "error",
     "traceback": [
      "\u001b[1;31m---------------------------------------------------------------------------\u001b[0m",
      "\u001b[1;31mAttributeError\u001b[0m                            Traceback (most recent call last)",
      "\u001b[1;32m<ipython-input-4-5245a533dffd>\u001b[0m in \u001b[0;36m<module>\u001b[1;34m\u001b[0m\n\u001b[0;32m     18\u001b[0m \u001b[1;31m# Load the JSON file\u001b[0m\u001b[1;33m\u001b[0m\u001b[1;33m\u001b[0m\u001b[1;33m\u001b[0m\u001b[0m\n\u001b[0;32m     19\u001b[0m \u001b[1;32mwith\u001b[0m \u001b[0mopen\u001b[0m\u001b[1;33m(\u001b[0m\u001b[1;34m\"breweries_merged.csv\"\u001b[0m\u001b[1;33m)\u001b[0m \u001b[1;32mas\u001b[0m \u001b[0mfile\u001b[0m\u001b[1;33m:\u001b[0m\u001b[1;33m\u001b[0m\u001b[1;33m\u001b[0m\u001b[0m\n\u001b[1;32m---> 20\u001b[1;33m     \u001b[0mfile_data\u001b[0m \u001b[1;33m=\u001b[0m \u001b[0mcsv\u001b[0m\u001b[1;33m.\u001b[0m\u001b[0mread\u001b[0m\u001b[1;33m(\u001b[0m\u001b[0mfile\u001b[0m\u001b[1;33m)\u001b[0m\u001b[1;33m\u001b[0m\u001b[1;33m\u001b[0m\u001b[0m\n\u001b[0m\u001b[0;32m     21\u001b[0m \u001b[1;33m\u001b[0m\u001b[0m\n\u001b[0;32m     22\u001b[0m \u001b[1;31m# Insert the loaded data in the Collection\u001b[0m\u001b[1;33m\u001b[0m\u001b[1;33m\u001b[0m\u001b[1;33m\u001b[0m\u001b[0m\n",
      "\u001b[1;31mAttributeError\u001b[0m: module 'csv' has no attribute 'read'"
     ]
    }
   ],
   "source": [
    "# Load all national brewery JSON file into Mongo\n",
    "\n",
    "## Create Mongo database from imported state files\n",
    "# Import modules\n",
    "import pymongo\n",
    "import csv\n",
    "\n",
    "# Set up default port and client connection; define the database\n",
    "conn = 'mongodb://localhost:27017'\n",
    "client = pymongo.MongoClient(conn)\n",
    "\n",
    "# Declare the 'USbeer_DB' database in Mongo\n",
    "db = client.USbeer_db\n",
    "\n",
    "# Declare the collection\n",
    "numbreweries = db.numbreweries_db\n",
    "\n",
    "# Load the JSON file\n",
    "with open(\"breweries_merged.csv\") as file:\n",
    "    file_data = csv.read(file)\n",
    "    \n",
    "# Insert the loaded data in the Collection\n",
    "# If JOSN contains more than one entry\n",
    "# insert_many is used, else insert_one is used\n",
    "\n",
    "if isinstance(file_data, list):\n",
    "    numbreweries.insert_many(file_data)\n",
    "else:\n",
    "    numbreweries.insert_one(file_data)\n",
    "\n"
   ]
  },
  {
   "cell_type": "code",
   "execution_count": null,
   "metadata": {},
   "outputs": [],
   "source": []
  },
  {
   "cell_type": "code",
   "execution_count": null,
   "metadata": {},
   "outputs": [],
   "source": []
  },
  {
   "cell_type": "code",
   "execution_count": null,
   "metadata": {},
   "outputs": [],
   "source": [
    "## ------------------ Test Code Follows Below ------------ ##"
   ]
  },
  {
   "cell_type": "code",
   "execution_count": null,
   "metadata": {},
   "outputs": [],
   "source": [
    "print(all_states[0])"
   ]
  },
  {
   "cell_type": "code",
   "execution_count": null,
   "metadata": {},
   "outputs": [],
   "source": [
    "## Grab state production data\n",
    "\n",
    "chart_data = all_states[0].select(\"script\")\n",
    "\n",
    "print(chart_data)\n",
    "\n",
    "\n"
   ]
  },
  {
   "cell_type": "code",
   "execution_count": null,
   "metadata": {},
   "outputs": [],
   "source": [
    "# chart_data1 = json.loads(all_states[0].find(\"script\").text)\n",
    "\n",
    "pattern = re.compile(r'\\{\"value\"\\s*:\\s*(\\d+)\\}')\n",
    "\n",
    "chart_data2 = all_states[0].select(\"script\", text=pattern)\n",
    "\n",
    "# print(pattern.search(chart_data2.string))\n"
   ]
  },
  {
   "cell_type": "code",
   "execution_count": null,
   "metadata": {},
   "outputs": [],
   "source": []
  },
  {
   "cell_type": "code",
   "execution_count": null,
   "metadata": {},
   "outputs": [],
   "source": [
    "# Strip header elements to extract state value\n",
    "\n",
    "states1 = soup.select(\"#state-header h1\")\n",
    "print(states1[0].text)"
   ]
  },
  {
   "cell_type": "code",
   "execution_count": null,
   "metadata": {},
   "outputs": [],
   "source": [
    "# Create list of states\n",
    "\n",
    "state_list = []\n",
    "\n",
    "for state in states:\n",
    "    name = state.text\n",
    "    state_list.append(name)\n",
    "    \n",
    "print(state_list)"
   ]
  },
  {
   "cell_type": "code",
   "execution_count": null,
   "metadata": {},
   "outputs": [],
   "source": [
    "# Scrape data for individual state (first state Alabama)\n",
    "\n",
    "state_total = soup.select(\".total\")\n",
    "\n",
    "print(state_total[0])\n",
    "\n"
   ]
  },
  {
   "cell_type": "code",
   "execution_count": null,
   "metadata": {},
   "outputs": [],
   "source": [
    "print(state_total[0].select(\"span.count\"))"
   ]
  },
  {
   "cell_type": "code",
   "execution_count": null,
   "metadata": {},
   "outputs": [],
   "source": [
    "state_breweries =  state_total[0].find(\"span\", {\"class\": \"count\"})\n",
    "state_rank = state_total[0].select(\"span.rank\")\n",
    "\n",
    "\n",
    "print(state_breweries)"
   ]
  },
  {
   "cell_type": "code",
   "execution_count": null,
   "metadata": {},
   "outputs": [],
   "source": [
    "print(state_total[0].text)"
   ]
  },
  {
   "cell_type": "code",
   "execution_count": null,
   "metadata": {},
   "outputs": [],
   "source": [
    "state_percapita = soup.select(\".per-capita\")\n",
    "\n",
    "print(state_percapita[0].text)\n"
   ]
  },
  {
   "cell_type": "code",
   "execution_count": null,
   "metadata": {},
   "outputs": [],
   "source": [
    "# Atlernative formulation -- pulls all data elements for all states\n",
    "state_breweries1 = soup.select(\".count\")\n",
    "\n",
    "print(state_breweries1[0].text)"
   ]
  },
  {
   "cell_type": "code",
   "execution_count": null,
   "metadata": {},
   "outputs": [],
   "source": [
    "print(state_breweries1)"
   ]
  },
  {
   "cell_type": "code",
   "execution_count": null,
   "metadata": {},
   "outputs": [],
   "source": [
    "\n",
    "\n",
    "alabama = all_states[0]\n",
    "alabama_data = alabama.select(\".count\")\n",
    "print(alabama_data)"
   ]
  },
  {
   "cell_type": "code",
   "execution_count": null,
   "metadata": {},
   "outputs": [],
   "source": [
    "breweries2 = alabama_data[0].text\n",
    "percapita2 = alabama_data[1].text\n",
    "barrels2 = alabama_data[4].text\n",
    "    \n",
    "print(breweries2, percapita2, barrels2)\n",
    "    \n"
   ]
  },
  {
   "cell_type": "code",
   "execution_count": null,
   "metadata": {},
   "outputs": [],
   "source": [
    "# Create loop to list through states; first print data, then append and store\n",
    "\n",
    "for state in all_states:\n",
    "    print (state.select(\"#state-header h1\")[0].text)\n",
    "    print (state.select(\".count\")[0].text)\n",
    "    print (state.select(\".count\")[1].text)\n",
    "    print (state.select(\".count\")[4].text)\n",
    "    print (\"--------------\")"
   ]
  },
  {
   "cell_type": "code",
   "execution_count": null,
   "metadata": {},
   "outputs": [],
   "source": []
  },
  {
   "cell_type": "code",
   "execution_count": null,
   "metadata": {},
   "outputs": [],
   "source": []
  }
 ],
 "metadata": {
  "kernelspec": {
   "display_name": "Python 3",
   "language": "python",
   "name": "python3"
  },
  "language_info": {
   "codemirror_mode": {
    "name": "ipython",
    "version": 3
   },
   "file_extension": ".py",
   "mimetype": "text/x-python",
   "name": "python",
   "nbconvert_exporter": "python",
   "pygments_lexer": "ipython3",
   "version": "3.6.10"
  }
 },
 "nbformat": 4,
 "nbformat_minor": 4
}
