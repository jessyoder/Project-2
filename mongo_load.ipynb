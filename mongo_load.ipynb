{
 "cells": [
  {
   "cell_type": "code",
   "execution_count": 1,
   "metadata": {},
   "outputs": [],
   "source": [
    "## Import dependencies\n",
    "\n",
    "import csv\n",
    "import json\n",
    "import pandas as pd\n",
    "import sys, getopt, pprint\n",
    "import pymongo\n",
    "from pymongo import MongoClient\n"
   ]
  },
  {
   "cell_type": "code",
   "execution_count": 2,
   "metadata": {},
   "outputs": [],
   "source": [
    "# Establish Mongo connection\n",
    "conn = 'mongodb://localhost:27017'\n",
    "client = pymongo.MongoClient(conn)\n",
    "\n",
    "# Connect to database\n",
    "db = client.USbeer_db"
   ]
  },
  {
   "cell_type": "code",
   "execution_count": 18,
   "metadata": {},
   "outputs": [],
   "source": [
    "# Drop or clear collection if needed:\n",
    "db.production_db.drop()\n",
    "# db.brewnum_db.drop()\n",
    "# db.craft_barrels_db.drop()"
   ]
  },
  {
   "cell_type": "code",
   "execution_count": 19,
   "metadata": {},
   "outputs": [
    {
     "data": {
      "text/plain": [
       "{'_id': ObjectId('5f94f4d34f9a48b0b5a6d3d0'),\n",
       " 'Year': '2010',\n",
       " '6,000,001 Barrels and Over': '161000000',\n",
       " '2,000,000 to 6,000,000 Barrels': ' -   ',\n",
       " '1,000,001 to 1,999,999 Barrels': '15500000',\n",
       " '500,001 to 1,000,000 Barrels': '7140000',\n",
       " '100,001 to 500,000 Barrels': '6120000',\n",
       " '60,001 to 100,000 Barrels': '1230000',\n",
       " '30,001 to 60,000 Barrels': '1540000',\n",
       " '15,001 to 30,000 Barrels': '911000',\n",
       " '7,501 to 15,000 Barrels': '560000',\n",
       " '1,001 to 7,500 Barrels': '1060000',\n",
       " '1 to 1,000 Barrels': '426000',\n",
       " 'Total': '195000000',\n",
       " 'Total Craft': '34400000'}"
      ]
     },
     "execution_count": 19,
     "metadata": {},
     "output_type": "execute_result"
    }
   ],
   "source": [
    "# Load \"production_merged1.csv\" to Mongo\n",
    "\n",
    "# Define Mongo collection to store data\n",
    "collection = db.production_db\n",
    "\n",
    "# Load data\n",
    "csvfile = open(\"production_merged1.csv\", \"r\")\n",
    "reader = csv.DictReader(csvfile)\n",
    "\n",
    "header = [\"Year\", \"6,000,001 Barrels and Over\", \"2,000,000 to 6,000,000 Barrels\", \"1,000,001 to 1,999,999 Barrels\", \n",
    "          \"500,001 to 1,000,000 Barrels\", \"100,001 to 500,000 Barrels\", \"60,001 to 100,000 Barrels\", \n",
    "          \"30,001 to 60,000 Barrels\", \"15,001 to 30,000 Barrels\", \"7,501 to 15,000 Barrels\", \n",
    "          \"1,001 to 7,500 Barrels\", \"1 to 1,000 Barrels\", \"Total\", \"Total Craft\"]\n",
    "\n",
    "for each in reader:\n",
    "    row = {}\n",
    "    for field in header:\n",
    "        row[field]=each[field]\n",
    "        \n",
    "    # print (row)    \n",
    "    db.production_db.insert_one(row)\n",
    "    \n",
    "# Check insertion\n",
    "db.production_db.find_one()"
   ]
  },
  {
   "cell_type": "code",
   "execution_count": 12,
   "metadata": {},
   "outputs": [
    {
     "data": {
      "text/plain": [
       "{'_id': ObjectId('5f94f1de4f9a48b0b5a6d3ad'),\n",
       " 'Year': '2010',\n",
       " '6,000,001 Barrels and Over': '17',\n",
       " '2,000,000 to 6,000,000 Barrels': '0',\n",
       " '1,000,001 to 1,999,999 Barrels': '0',\n",
       " '500,001 to 1,000,000 Barrels': '9',\n",
       " '100,001 to 500,000 Barrels': '32',\n",
       " '60,001 to 100,000 Barrels': '16',\n",
       " '30,001 to 60,000 Barrels': '38',\n",
       " '15,001 to 30,000 Barrels': '40',\n",
       " '7,501 to 15,000 Barrels': '51',\n",
       " '1,001 to 7,500 Barrels': '428',\n",
       " '1 to 1,000 Barrels': '1178'}"
      ]
     },
     "execution_count": 12,
     "metadata": {},
     "output_type": "execute_result"
    }
   ],
   "source": [
    "# Load \"breweries_merged1.csv\" to Mongo\n",
    "\n",
    "# Define Mongo collection to store data\n",
    "collection = db.brewnum_db\n",
    "\n",
    "csvfile = open(\"breweries_merged1.csv\", \"r\")\n",
    "reader = csv.DictReader(csvfile)\n",
    "\n",
    "header = [\"Year\", \"6,000,001 Barrels and Over\", \"2,000,000 to 6,000,000 Barrels\", \"1,000,001 to 1,999,999 Barrels\", \n",
    "          \"500,001 to 1,000,000 Barrels\", \"100,001 to 500,000 Barrels\", \"60,001 to 100,000 Barrels\", \n",
    "          \"30,001 to 60,000 Barrels\", \"15,001 to 30,000 Barrels\", \"7,501 to 15,000 Barrels\", \n",
    "          \"1,001 to 7,500 Barrels\", \"1 to 1,000 Barrels\"]\n",
    "\n",
    "for each in reader:\n",
    "    row = {}\n",
    "    for field in header:\n",
    "        row[field]=each[field]\n",
    "        \n",
    "    # print(row)\n",
    "    db.brewnum_db.insert_one(row)\n",
    "    \n",
    "# Check insertion\n",
    "db.brewnum_db.find_one()"
   ]
  },
  {
   "cell_type": "code",
   "execution_count": 13,
   "metadata": {},
   "outputs": [
    {
     "data": {
      "text/plain": [
       "{'_id': ObjectId('5f9247200a6856f7a731806e'),\n",
       " 'Year': '2005',\n",
       " 'Regional': '4059412',\n",
       " 'Micro Brewery': '708014',\n",
       " 'Brewpub': '672219',\n",
       " 'Contract': '854155'}"
      ]
     },
     "execution_count": 13,
     "metadata": {},
     "output_type": "execute_result"
    }
   ],
   "source": [
    "# Load \"craft_barrels.csv\" to Mongo\n",
    "\n",
    "# Define Mongo collection to store data\n",
    "collection = db.craftbarrels_db\n",
    "\n",
    "csvfile = open(\"craft_barrels.csv\", \"r\")\n",
    "reader = csv.DictReader(csvfile)\n",
    "\n",
    "header = [\"Year\", \"Regional\", \"Micro Brewery\", \"Brewpub\", \"Contract\"]\n",
    "\n",
    "for each in reader:\n",
    "    row = {}\n",
    "    for field in header:\n",
    "        row[field]=each[field]\n",
    "        \n",
    "    # print(row)\n",
    "    db.craftbarrels_db.insert_one(row)\n",
    "    \n",
    "# Check insertion\n",
    "db.craftbarrels_db.find_one()"
   ]
  },
  {
   "cell_type": "code",
   "execution_count": 14,
   "metadata": {},
   "outputs": [
    {
     "name": "stdout",
     "output_type": "stream",
     "text": [
      "['craftbarrels_db', 'brewnum_db', 'statedata_db', 'production_db', 'breweries_db']\n"
     ]
    }
   ],
   "source": [
    "# Confirm collection within USbeer database\n",
    "# Notes:\n",
    "# -- \"production_db\" collection loaded via craft_brewery_scrape notebook\n",
    "# -- \"statedata_db\" collection was loaded using Mongo import csv function from Mongo Compass (much easier!!)\n",
    "\n",
    "print(client.USbeer_db.list_collection_names())"
   ]
  },
  {
   "cell_type": "code",
   "execution_count": 15,
   "metadata": {},
   "outputs": [
    {
     "data": {
      "text/plain": [
       "{'_id': ObjectId('5f92bd435fa317575024073e'),\n",
       " '': '0',\n",
       " 'States': 'Alabama',\n",
       " '# Breweries': 51,\n",
       " 'Breweries Per Capita': 1.4,\n",
       " 'Barrels': 84013}"
      ]
     },
     "execution_count": 15,
     "metadata": {},
     "output_type": "execute_result"
    }
   ],
   "source": [
    "# Check other collections inserted elsewhere\n",
    "db.statedata_db.find_one()\n",
    "# db.breweries_db.find_one()\n"
   ]
  }
 ],
 "metadata": {
  "kernelspec": {
   "display_name": "Python 3",
   "language": "python",
   "name": "python3"
  },
  "language_info": {
   "codemirror_mode": {
    "name": "ipython",
    "version": 3
   },
   "file_extension": ".py",
   "mimetype": "text/x-python",
   "name": "python",
   "nbconvert_exporter": "python",
   "pygments_lexer": "ipython3",
   "version": "3.6.10"
  }
 },
 "nbformat": 4,
 "nbformat_minor": 4
}
